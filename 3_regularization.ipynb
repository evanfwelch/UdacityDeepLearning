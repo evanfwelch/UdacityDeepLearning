{
 "cells": [
  {
   "cell_type": "markdown",
   "metadata": {
    "colab_type": "text",
    "id": "kR-4eNdK6lYS"
   },
   "source": [
    "Deep Learning\n",
    "=============\n",
    "\n",
    "Assignment 3\n",
    "------------\n",
    "\n",
    "Previously in `2_fullyconnected.ipynb`, you trained a logistic regression and a neural network model.\n",
    "\n",
    "The goal of this assignment is to explore regularization techniques."
   ]
  },
  {
   "cell_type": "code",
   "execution_count": 5,
   "metadata": {
    "cellView": "both",
    "colab": {
     "autoexec": {
      "startup": false,
      "wait_interval": 0
     }
    },
    "colab_type": "code",
    "collapsed": true,
    "id": "JLpLa8Jt7Vu4"
   },
   "outputs": [],
   "source": [
    "# These are all the modules we'll be using later. Make sure you can import them\n",
    "# before proceeding further.\n",
    "from __future__ import print_function\n",
    "import numpy as np\n",
    "import tensorflow as tf\n",
    "from six.moves import cPickle as pickle\n",
    "from six.moves import range"
   ]
  },
  {
   "cell_type": "markdown",
   "metadata": {
    "colab_type": "text",
    "id": "1HrCK6e17WzV"
   },
   "source": [
    "First reload the data we generated in _notmist.ipynb_."
   ]
  },
  {
   "cell_type": "code",
   "execution_count": 6,
   "metadata": {
    "cellView": "both",
    "colab": {
     "autoexec": {
      "startup": false,
      "wait_interval": 0
     },
     "output_extras": [
      {
       "item_id": 1
      }
     ]
    },
    "colab_type": "code",
    "collapsed": false,
    "executionInfo": {
     "elapsed": 11777,
     "status": "ok",
     "timestamp": 1449849322348,
     "user": {
      "color": "",
      "displayName": "",
      "isAnonymous": false,
      "isMe": true,
      "permissionId": "",
      "photoUrl": "",
      "sessionId": "0",
      "userId": ""
     },
     "user_tz": 480
    },
    "id": "y3-cj1bpmuxc",
    "outputId": "e03576f1-ebbe-4838-c388-f1777bcc9873"
   },
   "outputs": [
    {
     "name": "stdout",
     "output_type": "stream",
     "text": [
      "Training set (200000, 28, 28) (200000,)\n",
      "Validation set (10000, 28, 28) (10000,)\n",
      "Test set (10000, 28, 28) (10000,)\n"
     ]
    }
   ],
   "source": [
    "pickle_file = 'notMNIST.pickle'\n",
    "\n",
    "with open(pickle_file, 'rb') as f:\n",
    "  save = pickle.load(f)\n",
    "  train_dataset = save['train_dataset']\n",
    "  train_labels = save['train_labels']\n",
    "  valid_dataset = save['valid_dataset']\n",
    "  valid_labels = save['valid_labels']\n",
    "  test_dataset = save['test_dataset']\n",
    "  test_labels = save['test_labels']\n",
    "  del save  # hint to help gc free up memory\n",
    "  print('Training set', train_dataset.shape, train_labels.shape)\n",
    "  print('Validation set', valid_dataset.shape, valid_labels.shape)\n",
    "  print('Test set', test_dataset.shape, test_labels.shape)"
   ]
  },
  {
   "cell_type": "markdown",
   "metadata": {
    "colab_type": "text",
    "id": "L7aHrm6nGDMB"
   },
   "source": [
    "Reformat into a shape that's more adapted to the models we're going to train:\n",
    "- data as a flat matrix,\n",
    "- labels as float 1-hot encodings."
   ]
  },
  {
   "cell_type": "code",
   "execution_count": 7,
   "metadata": {
    "cellView": "both",
    "colab": {
     "autoexec": {
      "startup": false,
      "wait_interval": 0
     },
     "output_extras": [
      {
       "item_id": 1
      }
     ]
    },
    "colab_type": "code",
    "collapsed": false,
    "executionInfo": {
     "elapsed": 11728,
     "status": "ok",
     "timestamp": 1449849322356,
     "user": {
      "color": "",
      "displayName": "",
      "isAnonymous": false,
      "isMe": true,
      "permissionId": "",
      "photoUrl": "",
      "sessionId": "0",
      "userId": ""
     },
     "user_tz": 480
    },
    "id": "IRSyYiIIGIzS",
    "outputId": "3f8996ee-3574-4f44-c953-5c8a04636582"
   },
   "outputs": [
    {
     "name": "stdout",
     "output_type": "stream",
     "text": [
      "Training set (200000, 784) (200000, 10)\n",
      "Validation set (10000, 784) (10000, 10)\n",
      "Test set (10000, 784) (10000, 10)\n"
     ]
    }
   ],
   "source": [
    "image_size = 28\n",
    "num_labels = 10\n",
    "\n",
    "def reformat(dataset, labels):\n",
    "  dataset = dataset.reshape((-1, image_size * image_size)).astype(np.float32)\n",
    "  # Map 2 to [0.0, 1.0, 0.0 ...], 3 to [0.0, 0.0, 1.0 ...]\n",
    "  labels = (np.arange(num_labels) == labels[:,None]).astype(np.float32)\n",
    "  return dataset, labels\n",
    "train_dataset, train_labels = reformat(train_dataset, train_labels)\n",
    "valid_dataset, valid_labels = reformat(valid_dataset, valid_labels)\n",
    "test_dataset, test_labels = reformat(test_dataset, test_labels)\n",
    "print('Training set', train_dataset.shape, train_labels.shape)\n",
    "print('Validation set', valid_dataset.shape, valid_labels.shape)\n",
    "print('Test set', test_dataset.shape, test_labels.shape)"
   ]
  },
  {
   "cell_type": "code",
   "execution_count": 8,
   "metadata": {
    "cellView": "both",
    "colab": {
     "autoexec": {
      "startup": false,
      "wait_interval": 0
     }
    },
    "colab_type": "code",
    "collapsed": true,
    "id": "RajPLaL_ZW6w"
   },
   "outputs": [],
   "source": [
    "def accuracy(predictions, labels):\n",
    "  return (100.0 * np.sum(np.argmax(predictions, 1) == np.argmax(labels, 1))\n",
    "          / predictions.shape[0])"
   ]
  },
  {
   "cell_type": "markdown",
   "metadata": {
    "colab_type": "text",
    "id": "sgLbUAQ1CW-1"
   },
   "source": [
    "---\n",
    "Problem 1\n",
    "---------\n",
    "\n",
    "Introduce and tune L2 regularization for both logistic and neural network models. Remember that L2 amounts to adding a penalty on the norm of the weights to the loss. In TensorFlow, you can compute the L2 loss for a tensor `t` using `nn.l2_loss(t)`. The right amount of regularization should improve your validation / test accuracy.\n",
    "\n",
    "---"
   ]
  },
  {
   "cell_type": "code",
   "execution_count": 24,
   "metadata": {
    "collapsed": false
   },
   "outputs": [
    {
     "name": "stdout",
     "output_type": "stream",
     "text": [
      "Initialized\n",
      "loss at step 0: 329.634\n",
      "training accuracy is 8.1%\n",
      "Validation accuracy is 10.8%\n",
      "Test accuracy is 10.0%\n",
      "----------------------\n",
      "loss at step 100: 1.00982\n",
      "training accuracy is 81.4%\n",
      "Validation accuracy is 80.9%\n",
      "Test accuracy is 87.6%\n",
      "----------------------\n",
      "loss at step 200: 0.997527\n",
      "training accuracy is 81.5%\n",
      "Validation accuracy is 80.9%\n",
      "Test accuracy is 87.5%\n",
      "----------------------\n",
      "loss at step 300: 0.996819\n",
      "training accuracy is 81.6%\n",
      "Validation accuracy is 81.0%\n",
      "Test accuracy is 87.6%\n",
      "----------------------\n",
      "loss at step 400: 0.996622\n",
      "training accuracy is 81.6%\n",
      "Validation accuracy is 81.0%\n",
      "Test accuracy is 87.5%\n",
      "----------------------\n",
      "loss at step 500: 0.996561\n",
      "training accuracy is 81.6%\n",
      "Validation accuracy is 81.0%\n",
      "Test accuracy is 87.6%\n",
      "----------------------\n",
      "loss at step 600: 0.996541\n",
      "training accuracy is 81.6%\n",
      "Validation accuracy is 81.0%\n",
      "Test accuracy is 87.6%\n",
      "----------------------\n",
      "loss at step 700: 0.996534\n",
      "training accuracy is 81.6%\n",
      "Validation accuracy is 81.0%\n",
      "Test accuracy is 87.6%\n",
      "----------------------\n",
      "loss at step 800: 0.996532\n",
      "training accuracy is 81.7%\n",
      "Validation accuracy is 81.0%\n",
      "Test accuracy is 87.6%\n",
      "----------------------\n"
     ]
    }
   ],
   "source": [
    "train_subset = 10000\n",
    "# LOGISTIC REGRESSION, SGD, L2 regularized, using GD optimzization\n",
    "log_reg_graph = tf.Graph()\n",
    "with log_reg_graph.as_default():\n",
    "    # set constants\n",
    "    tf_train_data = tf.constant(train_dataset[:train_subset,:])\n",
    "    tf_train_labels = tf.constant(train_labels[:train_subset,:])\n",
    "    tf_valid_data = tf.constant(valid_dataset)\n",
    "    tf_test_data = tf.constant(test_dataset)\n",
    "    \n",
    "    # set variables\n",
    "    tf_W = tf.Variable(tf.truncated_normal([image_size**2, num_labels]))\n",
    "    tf_b = tf.Variable(tf.zeros([num_labels]))\n",
    "\n",
    "    # placeholder for regularization constant\n",
    "    tf_alpha = tf.placeholder_with_default(input=1.0, shape=[])\n",
    "    \n",
    "    # define loss\n",
    "    logits = tf.matmul(tf_train_data, tf_W) + tf_b\n",
    "    loss = tf.reduce_mean(tf.nn.softmax_cross_entropy_with_logits(logits, tf_train_labels)) + tf_alpha*tf.nn.l2_loss(tf_W)\n",
    "    \n",
    "    # define optimizer\n",
    "    optimizer = tf.train.GradientDescentOptimizer(0.5).minimize(loss)\n",
    "    \n",
    "    # make predictions\n",
    "    train_prediction = tf.nn.softmax(logits)\n",
    "    valid_prediction = tf.nn.softmax(tf.matmul(tf_valid_data, tf_W) + tf_b)\n",
    "    test_prediction = tf.nn.softmax(tf.matmul(tf_test_data, tf_W) + tf_b)\n",
    "    \n",
    "gd_steps = 801\n",
    "with tf.Session(graph=log_reg_graph) as LRSess:\n",
    "    # initialize\n",
    "    tf.initialize_all_variables().run()\n",
    "    print('Initialized')\n",
    "    # make some predictions\n",
    "    for step in range(gd_steps):\n",
    "        _, l, tr_preds = LRSess.run([optimizer, loss, train_prediction], feed_dict={tf_alpha:.1})\n",
    "        if step % 100 == 0:\n",
    "            print('loss at step %s: %s' % (step, l))\n",
    "            print('training accuracy is %.1f%%' % accuracy(tr_preds, train_labels[:train_subset,:]))\n",
    "            print('Validation accuracy is %.1f%%' % accuracy(valid_prediction.eval(),valid_labels))\n",
    "            print('Test accuracy is %.1f%%' % accuracy(test_prediction.eval(), test_labels))\n",
    "            print('----------------------')\n",
    "    # "
   ]
  },
  {
   "cell_type": "markdown",
   "metadata": {},
   "source": [
    "we were able to improve the validation and test accuracy from Assignment #2"
   ]
  },
  {
   "cell_type": "code",
   "execution_count": 57,
   "metadata": {
    "collapsed": false
   },
   "outputs": [
    {
     "name": "stdout",
     "output_type": "stream",
     "text": [
      "Initialized\n",
      "at step 0 loss is 413.293\n",
      "validation accuracy is 22.06\n",
      "test accuracy is 24.14\n",
      "----------\n",
      "at step 2000 loss is 0.0\n",
      "validation accuracy is 77.82\n",
      "test accuracy is 84.75\n",
      "----------\n",
      "at step 4000 loss is 0.0\n",
      "validation accuracy is 77.81\n",
      "test accuracy is 84.74\n",
      "----------\n",
      "at step 6000 loss is 2.98023e-08\n",
      "validation accuracy is 77.81\n",
      "test accuracy is 84.74\n",
      "----------\n",
      "at step 8000 loss is 0.0\n",
      "validation accuracy is 77.81\n",
      "test accuracy is 84.74\n",
      "----------\n",
      "at step 10000 loss is 0.0\n",
      "validation accuracy is 77.81\n",
      "test accuracy is 84.74\n",
      "----------\n",
      "at step 12000 loss is 0.0\n",
      "validation accuracy is 77.81\n",
      "test accuracy is 84.74\n",
      "----------\n",
      "at step 14000 loss is 0.0\n",
      "validation accuracy is 77.81\n",
      "test accuracy is 84.74\n",
      "----------\n",
      "at step 16000 loss is 0.0\n",
      "validation accuracy is 77.81\n",
      "test accuracy is 84.74\n",
      "----------\n"
     ]
    }
   ],
   "source": [
    "# now let's implement hte L2 regularization for the case of SGD with 2 layer RELU NN\n",
    "\n",
    "# define graph\n",
    "my_l2_nn = tf.Graph()\n",
    "size_hidden_layer = 1024\n",
    "batch_size = 128\n",
    "\n",
    "with my_l2_nn.as_default():\n",
    "    \n",
    "    # constants\n",
    "    tf_valid_data  = tf.constant(valid_dataset)\n",
    "    tf_test_data = tf.constant(test_dataset)\n",
    "    \n",
    "    \n",
    "    # place holders\n",
    "    tf_train_data = tf.placeholder(dtype = tf.float32, shape=[batch_size, image_size**2])\n",
    "    tf_train_labels = tf.placeholder(dtype = tf.float32, shape=[batch_size, num_labels])\n",
    "    tf_alpha = tf.placeholder_with_default(.1,shape=[])\n",
    "    # variables\n",
    "    tf_W1 = tf.Variable(tf.truncated_normal([image_size**2, size_hidden_layer]))\n",
    "    tf_b1 = tf.Variable(tf.truncated_normal([size_hidden_layer]))\n",
    "    \n",
    "    tf_W2 = tf.Variable(tf.truncated_normal([size_hidden_layer, num_labels]))\n",
    "    tf_b2 = tf.Variable(tf.truncated_normal([num_labels]))\n",
    "    \n",
    "    # forward prop\n",
    "    layer1 = tf.matmul(tf_train_data, tf_W1) + tf_b1\n",
    "    logits = tf.matmul(tf.nn.relu(layer1), tf_W2) + tf_b2\n",
    "    \n",
    "        \n",
    "    # loss\n",
    "    loss = tf.reduce_mean(tf.nn.softmax_cross_entropy_with_logits(logits, tf_train_labels) + tf_alpha*(tf.nn.l2_loss(tf_W1) + tf.nn.l2_loss(tf_W2)))\n",
    "  \n",
    "    # optimizer\n",
    "    optimizer = tf.train.GradientDescentOptimizer(0.5).minimize(loss)\n",
    "    \n",
    "    # prediction\n",
    "    predict_train = tf.nn.softmax(logits)\n",
    "    predict_valid = tf.nn.softmax(tf.matmul(tf.nn.relu(tf.matmul(tf_valid_data, tf_W1) + tf_b1), tf_W2) + tf_b2)\n",
    "    predict_test = tf.nn.softmax(tf.matmul(tf.nn.relu(tf.matmul(tf_test_data, tf_W1) + tf_b1), tf_W2) + tf_b2)\n",
    "    \n",
    "    \n",
    "\n",
    "# now begin a session\n",
    "n_steps = 16001\n",
    "\n",
    "with tf.Session(graph=my_l2_nn) as my_l2_nn_sess:\n",
    "    #initialize\n",
    "    tf.initialize_all_variables().run()\n",
    "    print('Initialized')\n",
    "    # loop over steps\n",
    "    for step in range(n_steps):\n",
    "        \n",
    "        #define mini batch randomly\n",
    "        i_start = np.random.randint(1000-batch_size)\n",
    "        # implmeent overfitting\n",
    "        \n",
    "        mb_train_data = train_dataset[i_start:batch_size + i_start, :]\n",
    "        mb_train_labels = train_labels[i_start:i_start + batch_size,:]\n",
    "        feed_dict = {tf_train_data: mb_train_data, tf_train_labels: mb_train_labels, tf_alpha: .0}\n",
    "        \n",
    "        # run\n",
    "        _, l = my_l2_nn_sess.run([optimizer, loss], feed_dict = feed_dict)\n",
    "            # evaluate accuracy\n",
    "        if step % 2000 == 0:\n",
    "            print('at step %s loss is %s' % (step, l))\n",
    "            \n",
    "            print('validation accuracy is %s' % accuracy(predict_valid.eval(),valid_labels))\n",
    "            print('test accuracy is %s' % accuracy(predict_test.eval(), test_labels))\n",
    "            print('----------')"
   ]
  },
  {
   "cell_type": "markdown",
   "metadata": {
    "colab_type": "text",
    "id": "na8xX2yHZzNF"
   },
   "source": [
    "---\n",
    "Problem 2\n",
    "---------\n",
    "Let's demonstrate an extreme case of overfitting. Restrict your training data to just a few batches. What happens?\n",
    "\n",
    "---"
   ]
  },
  {
   "cell_type": "code",
   "execution_count": 58,
   "metadata": {
    "collapsed": false
   },
   "outputs": [
    {
     "name": "stdout",
     "output_type": "stream",
     "text": [
      "Initialized\n",
      "at step 0 loss is 315.853\n",
      "validation accuracy is 38.45\n",
      "test accuracy is 41.72\n",
      "----------\n",
      "at step 2000 loss is 8.3819e-09\n",
      "validation accuracy is 66.14\n",
      "test accuracy is 73.06\n",
      "----------\n",
      "at step 4000 loss is 8.3819e-09\n",
      "validation accuracy is 66.14\n",
      "test accuracy is 73.06\n",
      "----------\n",
      "at step 6000 loss is 8.3819e-09\n",
      "validation accuracy is 66.14\n",
      "test accuracy is 73.06\n",
      "----------\n",
      "at step 8000 loss is 7.45058e-09\n",
      "validation accuracy is 66.14\n",
      "test accuracy is 73.06\n",
      "----------\n",
      "at step 10000 loss is 7.45058e-09\n",
      "validation accuracy is 66.14\n",
      "test accuracy is 73.06\n",
      "----------\n",
      "at step 12000 loss is 7.45058e-09\n",
      "validation accuracy is 66.14\n",
      "test accuracy is 73.06\n",
      "----------\n",
      "at step 14000 loss is 7.45058e-09\n",
      "validation accuracy is 66.14\n",
      "test accuracy is 73.06\n",
      "----------\n",
      "at step 16000 loss is 7.45058e-09\n",
      "validation accuracy is 66.14\n",
      "test accuracy is 73.06\n",
      "----------\n"
     ]
    }
   ],
   "source": [
    "# now let's implement hte L2 regularization for the case of SGD with 2 layer RELU NN\n",
    "\n",
    "# define graph\n",
    "my_l2_nn = tf.Graph()\n",
    "size_hidden_layer = 1024\n",
    "batch_size = 128\n",
    "\n",
    "with my_l2_nn.as_default():\n",
    "    \n",
    "    # constants\n",
    "    tf_valid_data  = tf.constant(valid_dataset)\n",
    "    tf_test_data = tf.constant(test_dataset)\n",
    "    \n",
    "    \n",
    "    # place holders\n",
    "    tf_train_data = tf.placeholder(dtype = tf.float32, shape=[batch_size, image_size**2])\n",
    "    tf_train_labels = tf.placeholder(dtype = tf.float32, shape=[batch_size, num_labels])\n",
    "    tf_alpha = tf.placeholder_with_default(.1,shape=[])\n",
    "    # variables\n",
    "    tf_W1 = tf.Variable(tf.truncated_normal([image_size**2, size_hidden_layer]))\n",
    "    tf_b1 = tf.Variable(tf.truncated_normal([size_hidden_layer]))\n",
    "    \n",
    "    tf_W2 = tf.Variable(tf.truncated_normal([size_hidden_layer, num_labels]))\n",
    "    tf_b2 = tf.Variable(tf.truncated_normal([num_labels]))\n",
    "    \n",
    "    # forward prop\n",
    "    layer1 = tf.matmul(tf_train_data, tf_W1) + tf_b1\n",
    "    logits = tf.matmul(tf.nn.relu(layer1), tf_W2) + tf_b2\n",
    "    \n",
    "        \n",
    "    # loss\n",
    "    loss = tf.reduce_mean(tf.nn.softmax_cross_entropy_with_logits(logits, tf_train_labels) + tf_alpha*(tf.nn.l2_loss(tf_W1) + tf.nn.l2_loss(tf_W2)))\n",
    "  \n",
    "    # optimizer\n",
    "    optimizer = tf.train.GradientDescentOptimizer(0.5).minimize(loss)\n",
    "    \n",
    "    # prediction\n",
    "    predict_train = tf.nn.softmax(logits)\n",
    "    predict_valid = tf.nn.softmax(tf.matmul(tf.nn.relu(tf.matmul(tf_valid_data, tf_W1) + tf_b1), tf_W2) + tf_b2)\n",
    "    predict_test = tf.nn.softmax(tf.matmul(tf.nn.relu(tf.matmul(tf_test_data, tf_W1) + tf_b1), tf_W2) + tf_b2)\n",
    "    \n",
    "    \n",
    "\n",
    "# now begin a session\n",
    "n_steps = 16001\n",
    "\n",
    "with tf.Session(graph=my_l2_nn) as my_l2_nn_sess:\n",
    "    #initialize\n",
    "    tf.initialize_all_variables().run()\n",
    "    print('Initialized')\n",
    "    # loop over steps\n",
    "    for step in range(n_steps):\n",
    "        \n",
    "        #define mini batch randomly\n",
    "        i_start = np.random.randint(1000-batch_size)\n",
    "        # implmeent overfitting\n",
    "        i_start = np.random.randint(2)\n",
    "        mb_train_data = train_dataset[i_start:batch_size + i_start, :]\n",
    "        mb_train_labels = train_labels[i_start:i_start + batch_size,:]\n",
    "        feed_dict = {tf_train_data: mb_train_data, tf_train_labels: mb_train_labels, tf_alpha: .0}\n",
    "        \n",
    "        # run\n",
    "        _, l = my_l2_nn_sess.run([optimizer, loss], feed_dict = feed_dict)\n",
    "            # evaluate accuracy\n",
    "        if step % 2000 == 0:\n",
    "            print('at step %s loss is %s' % (step, l))\n",
    "            \n",
    "            print('validation accuracy is %s' % accuracy(predict_valid.eval(),valid_labels))\n",
    "            print('test accuracy is %s' % accuracy(predict_test.eval(), test_labels))\n",
    "            print('----------')"
   ]
  },
  {
   "cell_type": "markdown",
   "metadata": {},
   "source": [
    "the validation and testing error top off at 67 and 74 percent respectively while the loss is zero and cant train anymore"
   ]
  },
  {
   "cell_type": "markdown",
   "metadata": {
    "colab_type": "text",
    "id": "ww3SCBUdlkRc"
   },
   "source": [
    "---\n",
    "Problem 3\n",
    "---------\n",
    "Introduce Dropout on the hidden layer of the neural network. Remember: Dropout should only be introduced during training, not evaluation, otherwise your evaluation results would be stochastic as well. TensorFlow provides `nn.dropout()` for that, but you have to make sure it's only inserted during training.\n",
    "\n",
    "What happens to our extreme overfitting case?\n",
    "\n",
    "---"
   ]
  },
  {
   "cell_type": "code",
   "execution_count": 62,
   "metadata": {
    "collapsed": false
   },
   "outputs": [
    {
     "name": "stdout",
     "output_type": "stream",
     "text": [
      "Initialized\n",
      "at step 0 loss is 16251.9\n",
      "validation accuracy is 33.9\n",
      "test accuracy is 38.39\n",
      "----------\n",
      "at step 2000 loss is 0.676352\n",
      "validation accuracy is 70.22\n",
      "test accuracy is 77.28\n",
      "----------\n",
      "at step 4000 loss is 0.670168\n",
      "validation accuracy is 70.51\n",
      "test accuracy is 77.34\n",
      "----------\n",
      "at step 6000 loss is 0.676017\n",
      "validation accuracy is 69.87\n",
      "test accuracy is 76.51\n",
      "----------\n",
      "at step 8000 loss is 0.665286\n",
      "validation accuracy is 70.32\n",
      "test accuracy is 77.16\n",
      "----------\n",
      "at step 10000 loss is 0.672057\n",
      "validation accuracy is 70.72\n",
      "test accuracy is 77.44\n",
      "----------\n",
      "at step 12000 loss is 0.649723\n",
      "validation accuracy is 70.39\n",
      "test accuracy is 76.94\n",
      "----------\n",
      "at step 14000 loss is 0.653338\n",
      "validation accuracy is 70.18\n",
      "test accuracy is 77.16\n",
      "----------\n",
      "at step 16000 loss is 0.666758\n",
      "validation accuracy is 70.47\n",
      "test accuracy is 77.34\n",
      "----------\n"
     ]
    }
   ],
   "source": [
    "# now let's implement hte L2 regularization for the case of SGD with 2 layer RELU NN\n",
    "\n",
    "# define graph\n",
    "my_l2_nn = tf.Graph()\n",
    "size_hidden_layer = 1024\n",
    "batch_size = 128\n",
    "\n",
    "with my_l2_nn.as_default():\n",
    "    \n",
    "    # constants\n",
    "    tf_valid_data  = tf.constant(valid_dataset)\n",
    "    tf_test_data = tf.constant(test_dataset)\n",
    "    \n",
    "    \n",
    "    # place holders\n",
    "    tf_train_data = tf.placeholder(dtype = tf.float32, shape=[batch_size, image_size**2])\n",
    "    tf_train_labels = tf.placeholder(dtype = tf.float32, shape=[batch_size, num_labels])\n",
    "    tf_alpha = tf.placeholder_with_default(.1,shape=[])\n",
    "    # variables\n",
    "    tf_W1 = tf.Variable(tf.truncated_normal([image_size**2, size_hidden_layer]))\n",
    "    tf_b1 = tf.Variable(tf.truncated_normal([size_hidden_layer]))\n",
    "    \n",
    "    tf_W2 = tf.Variable(tf.truncated_normal([size_hidden_layer, num_labels]))\n",
    "    tf_b2 = tf.Variable(tf.truncated_normal([num_labels]))\n",
    "    \n",
    "    # forward prop\n",
    "    layer1 = tf.matmul(tf_train_data, tf_W1) + tf_b1\n",
    "    drop_out_logits = tf.matmul(tf.nn.dropout(tf.nn.relu(layer1),keep_prob=.5), tf_W2) + tf_b2\n",
    "    logits = tf.matmul(tf.nn.relu(layer1), tf_W2) + tf_b2\n",
    "    \n",
    "    \n",
    "        \n",
    "    # loss\n",
    "    loss = tf.reduce_mean(tf.nn.softmax_cross_entropy_with_logits(drop_out_logits, tf_train_labels) + tf_alpha*(tf.nn.l2_loss(tf_W1) + tf.nn.l2_loss(tf_W2)))\n",
    "  \n",
    "    # optimizer\n",
    "    optimizer = tf.train.GradientDescentOptimizer(0.5).minimize(loss)\n",
    "    \n",
    "    # prediction\n",
    "    predict_train = tf.nn.softmax(logits)\n",
    "    predict_valid = tf.nn.softmax(tf.matmul(tf.nn.relu(tf.matmul(tf_valid_data, tf_W1) + tf_b1), tf_W2) + tf_b2)\n",
    "    predict_test = tf.nn.softmax(tf.matmul(tf.nn.relu(tf.matmul(tf_test_data, tf_W1) + tf_b1), tf_W2) + tf_b2)\n",
    "    \n",
    "    \n",
    "\n",
    "# now begin a session\n",
    "n_steps = 16001\n",
    "\n",
    "with tf.Session(graph=my_l2_nn) as my_l2_nn_sess:\n",
    "    #initialize\n",
    "    tf.initialize_all_variables().run()\n",
    "    print('Initialized')\n",
    "    # loop over steps\n",
    "    for step in range(n_steps):\n",
    "        \n",
    "        #define mini batch randomly\n",
    "        i_start = np.random.randint(1000-batch_size)\n",
    "        # implmeent overfitting\n",
    "        i_start = np.random.randint(2)\n",
    "        mb_train_data = train_dataset[i_start:batch_size + i_start, :]\n",
    "        mb_train_labels = train_labels[i_start:i_start + batch_size,:]\n",
    "        feed_dict = {tf_train_data: mb_train_data, tf_train_labels: mb_train_labels, tf_alpha: .05}\n",
    "        \n",
    "        # run\n",
    "        _, l = my_l2_nn_sess.run([optimizer, loss], feed_dict = feed_dict)\n",
    "            # evaluate accuracy\n",
    "        if step % 2000 == 0:\n",
    "            print('at step %s loss is %s' % (step, l))\n",
    "            \n",
    "            print('validation accuracy is %s' % accuracy(predict_valid.eval(),valid_labels))\n",
    "            print('test accuracy is %s' % accuracy(predict_test.eval(), test_labels))\n",
    "            print('----------')"
   ]
  },
  {
   "cell_type": "markdown",
   "metadata": {
    "colab_type": "text",
    "id": "-b1hTz3VWZjw"
   },
   "source": [
    "---\n",
    "Problem 4\n",
    "---------\n",
    "\n",
    "Try to get the best performance you can using a multi-layer model! The best reported test accuracy using a deep network is [97.1%](http://yaroslavvb.blogspot.com/2011/09/notmnist-dataset.html?showComment=1391023266211#c8758720086795711595).\n",
    "\n",
    "One avenue you can explore is to add multiple layers.\n",
    "\n",
    "Another one is to use learning rate decay:\n",
    "\n",
    "    global_step = tf.Variable(0)  # count the number of steps taken.\n",
    "    learning_rate = tf.train.exponential_decay(0.5, global_step, ...)\n",
    "    optimizer = tf.train.GradientDescentOptimizer(learning_rate).minimize(loss, global_step=global_step)\n",
    " \n",
    " ---\n"
   ]
  }
 ],
 "metadata": {
  "colab": {
   "default_view": {},
   "name": "3_regularization.ipynb",
   "provenance": [],
   "version": "0.3.2",
   "views": {}
  },
  "kernelspec": {
   "display_name": "Python 3",
   "language": "python",
   "name": "python3"
  },
  "language_info": {
   "codemirror_mode": {
    "name": "ipython",
    "version": 3
   },
   "file_extension": ".py",
   "mimetype": "text/x-python",
   "name": "python",
   "nbconvert_exporter": "python",
   "pygments_lexer": "ipython3",
   "version": "3.4.3"
  }
 },
 "nbformat": 4,
 "nbformat_minor": 0
}
